{
 "cells": [
  {
   "cell_type": "code",
   "execution_count": 1,
   "id": "022adb7f",
   "metadata": {},
   "outputs": [],
   "source": [
    "import numpy as np\n",
    "import pandas as pd"
   ]
  },
  {
   "cell_type": "code",
   "execution_count": 2,
   "id": "5d475141",
   "metadata": {},
   "outputs": [
    {
     "name": "stdout",
     "output_type": "stream",
     "text": [
      "/Downloads/Math stats1\n"
     ]
    }
   ],
   "source": [
    "cd Downloads/Math stats1/"
   ]
  },
  {
   "cell_type": "code",
   "execution_count": 3,
   "id": "f334d157",
   "metadata": {},
   "outputs": [
    {
     "name": "stdout",
     "output_type": "stream",
     "text": [
      "Diabetes_2014.csv  Diabetes_2018.csv  Heart_2014.csv     Statecodes.csv\r\n",
      "Diabetes_2016.csv  Heart.csv          Heart_2016.csv     diabetes222.xlsx\r\n"
     ]
    }
   ],
   "source": [
    "ls"
   ]
  },
  {
   "cell_type": "code",
   "execution_count": 4,
   "id": "19ed2a5a",
   "metadata": {},
   "outputs": [
    {
     "name": "stdout",
     "output_type": "stream",
     "text": [
      "(59094, 2)\n"
     ]
    }
   ],
   "source": [
    "#importing heart dataset\n",
    "dataset = pd.read_csv(\"heart.csv\", on_bad_lines='skip')\n",
    "h16 = pd.read_csv(\"Heart_2014.csv\", on_bad_lines='skip')\n",
    "h14 = pd.read_csv(\"Heart_2016.csv\", on_bad_lines='skip')\n",
    "dataset=dataset.iloc[:,[1,7]]\n",
    "print(dataset.shape)"
   ]
  },
  {
   "cell_type": "code",
   "execution_count": 5,
   "id": "cff3da9a",
   "metadata": {},
   "outputs": [],
   "source": [
    "statecodes=pd.read_csv(\"Statecodes.csv\")\n",
    "def code_to_state(dataset):\n",
    "    df_copy = dataset.copy()\n",
    "    for x in range(len(df_copy)):\n",
    "        for y in range(len(statecodes[\"Code\"])):\n",
    "            if df_copy.loc[x, \"LocationAbbr\"] in statecodes[\"Code\"].iloc[y]:\n",
    "                df_copy.loc[x, \"LocationAbbr\"] = statecodes[\"State\"].iloc[y]\n",
    "\n",
    "    dataset = df_copy\n",
    "    return dataset"
   ]
  },
  {
   "cell_type": "code",
   "execution_count": 6,
   "id": "dc060bf5",
   "metadata": {},
   "outputs": [],
   "source": [
    "dataset=code_to_state(dataset)\n",
    "h14=code_to_state(h14)"
   ]
  },
  {
   "cell_type": "code",
   "execution_count": 7,
   "id": "9755f4db",
   "metadata": {},
   "outputs": [],
   "source": [
    "h16=code_to_state(h16)"
   ]
  },
  {
   "cell_type": "code",
   "execution_count": 8,
   "id": "dd9936f3",
   "metadata": {},
   "outputs": [],
   "source": [
    "h14=h14.iloc[:,[1,7]]\n",
    "h16=h16.iloc[:,[1,7]]"
   ]
  },
  {
   "cell_type": "code",
   "execution_count": 9,
   "id": "53d18cca",
   "metadata": {},
   "outputs": [
    {
     "name": "stdout",
     "output_type": "stream",
     "text": [
      "(59094, 2)\n",
      "(59076, 2)\n"
     ]
    }
   ],
   "source": [
    "print(h14.shape)\n",
    "print(h16.shape)"
   ]
  },
  {
   "cell_type": "code",
   "execution_count": 10,
   "id": "6204690b",
   "metadata": {},
   "outputs": [
    {
     "name": "stdout",
     "output_type": "stream",
     "text": [
      "(3142, 6)\n"
     ]
    }
   ],
   "source": [
    "df = pd.read_csv(\"Diabetes_2018.csv\",on_bad_lines='skip')\n",
    "print(df.shape)\n",
    "df_14=pd.read_csv(\"Diabetes_2014.csv\", on_bad_lines='skip')\n",
    "df_16=pd.read_csv(\"Diabetes_2016.csv\", on_bad_lines='skip')"
   ]
  },
  {
   "cell_type": "code",
   "execution_count": 11,
   "id": "c413662f",
   "metadata": {},
   "outputs": [
    {
     "data": {
      "text/html": [
       "<div>\n",
       "<style scoped>\n",
       "    .dataframe tbody tr th:only-of-type {\n",
       "        vertical-align: middle;\n",
       "    }\n",
       "\n",
       "    .dataframe tbody tr th {\n",
       "        vertical-align: top;\n",
       "    }\n",
       "\n",
       "    .dataframe thead th {\n",
       "        text-align: right;\n",
       "    }\n",
       "</style>\n",
       "<table border=\"1\" class=\"dataframe\">\n",
       "  <thead>\n",
       "    <tr style=\"text-align: right;\">\n",
       "      <th></th>\n",
       "      <th>Year</th>\n",
       "      <th>County_FIPS</th>\n",
       "      <th>County</th>\n",
       "      <th>State</th>\n",
       "      <th>Diagnosed Diabetes Percentage</th>\n",
       "      <th>Overall SVI</th>\n",
       "    </tr>\n",
       "  </thead>\n",
       "  <tbody>\n",
       "    <tr>\n",
       "      <th>0</th>\n",
       "      <td>2018</td>\n",
       "      <td>56039</td>\n",
       "      <td>Teton County</td>\n",
       "      <td>Wyoming</td>\n",
       "      <td>3.8</td>\n",
       "      <td>0.1127</td>\n",
       "    </tr>\n",
       "    <tr>\n",
       "      <th>1</th>\n",
       "      <td>2018</td>\n",
       "      <td>53055</td>\n",
       "      <td>San Juan County</td>\n",
       "      <td>Washington</td>\n",
       "      <td>4.5</td>\n",
       "      <td>0.0863</td>\n",
       "    </tr>\n",
       "    <tr>\n",
       "      <th>2</th>\n",
       "      <td>2018</td>\n",
       "      <td>49043</td>\n",
       "      <td>Summit County</td>\n",
       "      <td>Utah</td>\n",
       "      <td>4.8</td>\n",
       "      <td>0.05</td>\n",
       "    </tr>\n",
       "    <tr>\n",
       "      <th>3</th>\n",
       "      <td>2018</td>\n",
       "      <td>27045</td>\n",
       "      <td>Fillmore County</td>\n",
       "      <td>Minnesota</td>\n",
       "      <td>5.0</td>\n",
       "      <td>0.2169</td>\n",
       "    </tr>\n",
       "    <tr>\n",
       "      <th>4</th>\n",
       "      <td>2018</td>\n",
       "      <td>30031</td>\n",
       "      <td>Gallatin County</td>\n",
       "      <td>Montana</td>\n",
       "      <td>5.0</td>\n",
       "      <td>0.0427</td>\n",
       "    </tr>\n",
       "  </tbody>\n",
       "</table>\n",
       "</div>"
      ],
      "text/plain": [
       "   Year  County_FIPS           County       State  \\\n",
       "0  2018        56039     Teton County     Wyoming   \n",
       "1  2018        53055  San Juan County  Washington   \n",
       "2  2018        49043    Summit County        Utah   \n",
       "3  2018        27045  Fillmore County   Minnesota   \n",
       "4  2018        30031  Gallatin County     Montana   \n",
       "\n",
       "   Diagnosed Diabetes Percentage Overall SVI  \n",
       "0                            3.8      0.1127  \n",
       "1                            4.5      0.0863  \n",
       "2                            4.8        0.05  \n",
       "3                            5.0      0.2169  \n",
       "4                            5.0      0.0427  "
      ]
     },
     "execution_count": 11,
     "metadata": {},
     "output_type": "execute_result"
    }
   ],
   "source": [
    "df.head()"
   ]
  },
  {
   "cell_type": "code",
   "execution_count": 12,
   "id": "fe53ada0",
   "metadata": {},
   "outputs": [],
   "source": [
    "#getting the average of all counties fo diabetes data\n",
    "def cal_average(df):\n",
    "    diabetes_dict = {}\n",
    "    count_dict_diabetes = {}\n",
    "\n",
    "    for state, value in zip(df.iloc[:, 3], df.iloc[:, 4]):\n",
    "        if state in diabetes_dict:\n",
    "            diabetes_dict[state] += value\n",
    "            count_dict_diabetes[state] += 1\n",
    "        else:\n",
    "            diabetes_dict[state] = value\n",
    "            count_dict_diabetes[state] = 1\n",
    "\n",
    "\n",
    "    for state in diabetes_dict:\n",
    "        diabetes_dict[state] /= count_dict_diabetes[state]\n",
    "\n",
    "\n",
    "    del diabetes_dict['District of Columbia']\n",
    "    return diabetes_dict\n",
    "\n",
    "    #print(diabetes_dict)"
   ]
  },
  {
   "cell_type": "code",
   "execution_count": 36,
   "id": "d6235deb",
   "metadata": {},
   "outputs": [],
   "source": [
    "diabetes_dict={}\n",
    "diabetes14_dict={}\n",
    "diabetes16_dict={}"
   ]
  },
  {
   "cell_type": "code",
   "execution_count": 37,
   "id": "fb458f93",
   "metadata": {},
   "outputs": [],
   "source": [
    "diabetes14_dict=sorted(diabetes14_dict.items(), key=lambda x: x[1], reverse=True)\n",
    "diabetes16_dict=sorted(diabetes16_dict.items(), key=lambda x: x[1], reverse=True)\n",
    "diabetes_dict=sorted(diabetes_dict.items(), key=lambda x: x[1], reverse=True)\n"
   ]
  },
  {
   "cell_type": "code",
   "execution_count": 39,
   "id": "86301ea5",
   "metadata": {},
   "outputs": [],
   "source": [
    "diabetes14_dict=cal_average(df_14)\n",
    "diabetes16_dict=cal_average(df_16)\n",
    "diabetes_dict=cal_average(df)"
   ]
  },
  {
   "cell_type": "code",
   "execution_count": null,
   "id": "295d976a",
   "metadata": {},
   "outputs": [],
   "source": []
  },
  {
   "cell_type": "code",
   "execution_count": 17,
   "id": "c82ea210",
   "metadata": {},
   "outputs": [],
   "source": [
    "def average_heart(dataset):\n",
    "    dataset = dataset.dropna()\n",
    "    dict_heart = {}\n",
    "    count_dict = {}\n",
    "\n",
    "\n",
    "    for state, value in zip(dataset.iloc[:, 0], dataset.iloc[:, 1]):\n",
    "        if state in dict_heart:\n",
    "            dict_heart[state] += value\n",
    "            count_dict[state] += 1\n",
    "        else:\n",
    "            dict_heart[state] = value\n",
    "            count_dict[state] = 1\n",
    "    for state in dict_heart:\n",
    "        dict_heart[state] /= count_dict[state]\n",
    "    print(dict_heart)\n",
    "    return dict_heart"
   ]
  },
  {
   "cell_type": "code",
   "execution_count": 18,
   "id": "2583b5ef",
   "metadata": {},
   "outputs": [],
   "source": [
    "heart14_dict={}\n",
    "heart16_dict={}\n",
    "heart18_dict={}"
   ]
  },
  {
   "cell_type": "code",
   "execution_count": 19,
   "id": "4b7a125a",
   "metadata": {},
   "outputs": [
    {
     "name": "stdout",
     "output_type": "stream",
     "text": [
      "{'Connecticut': 247.77142857142852, 'Indiana': 348.8018369690011, 'Arizona': 274.74906367041206, 'Arkansas': 452.75284327323163, 'Florida': 284.14364406779686, 'Idaho': 285.76456043956057, 'Iowa': 331.23167358229585, 'Alaska': 326.0702586206894, 'GU': 593.5999999999999, 'Alabama': 448.2949421965317, 'Georgia': 377.32302993280285, 'Mississippi': 483.63379396984925, 'Michigan': 362.408362369338, 'Maryland': 297.83149847094813, 'South Carolina': 337.6137867647059, 'Oregon': 246.26004464285697, 'Nebraska': 305.3473684210527, 'Pennsylvania': 332.6998722860793, 'Oklahoma': 452.0417708333331, 'Tennessee': 420.3742919389973, 'Texas': 363.6048618398045, 'New Mexico': 310.40939759036127, 'US': 297.4777777777778, 'Washington': 267.2159049360144, 'Virginia': 328.78564988730267, 'Wisconsin': 298.13593750000024, 'New York': 310.349569495695, 'North Carolina': 307.13821070234064, 'Louisiana': 444.82518409425575, 'Kansas': 329.06116959064354, 'New Jersey': 281.93761194029855, 'Nevada': 331.6784552845527, 'Ohio': 356.71987577639817, 'Missouri': 395.38079399141594, 'North Dakota': 321.49558011049743, 'Vermont': 306.3845360824742, 'Kentucky': 419.3382868937045, 'Minnesota': 258.5143465909093, 'Illinois': 338.12944214876046, 'Massachusetts': 232.59074074074087, 'Colorado': 247.86235294117634, 'Utah': 281.52178217821796, 'PR': 220.63839662447248, 'Montana': 329.1510000000002, 'West Virginia': 384.78635294117674, 'California': 296.2601384767552, 'South Dakota': 321.13078602620095, 'Delaware': 268.7428571428571, 'Rhode Island': 254.72315789473677, 'Hawaii': 294.473417721519, 'DC': 309.5266666666666, 'Maine': 301.50892857142856, 'Wyoming': 297.159793814433, 'New Hampshire': 251.88224299065416, 'MP': 321.0, 'VI': 261.03333333333336, 'AS': 436.0666666666666}\n",
      "{'Alaska': 318.39651741293534, 'Alabama': 452.9409956076137, 'California': 298.0684890656062, 'Arkansas': 447.27299578059046, 'Arizona': 272.9623574144487, 'AS': 343.5333333333333, 'Colorado': 247.79739884393086, 'Georgia': 380.1607990012482, 'Florida': 286.45032608695675, 'Connecticut': 255.6558823529412, 'Hawaii': 300.9817073170732, 'DC': 306.17857142857144, 'Delaware': 270.70517241379304, 'Idaho': 278.9232044198896, 'GU': 529.8000000000001, 'Iowa': 329.1460164835166, 'Montana': 349.521052631579, 'Kentucky': 431.4820618556702, 'Illinois': 343.1753799392097, 'New Jersey': 287.2231231231231, 'Indiana': 354.64485125858096, 'Oregon': 252.23435448577666, 'Kansas': 339.46534422403687, 'US': 301.70000000000005, 'Nevada': 342.7868725868725, 'Louisiana': 452.0330860534122, 'Mississippi': 495.518181818181, 'Massachusetts': 235.6403846153847, 'Ohio': 358.9694503171252, 'Oklahoma': 451.891614906832, 'Vermont': 305.18842105263167, 'Maryland': 305.678086419753, 'Maine': 306.3223214285716, 'Michigan': 373.41315483119956, 'Wisconsin': 309.55039001560044, 'Rhode Island': 260.94827586206895, 'Minnesota': 263.4621813031155, 'Missouri': 406.57800212539865, 'Utah': 273.00677419354855, 'MP': 379.13333333333327, 'North Carolina': 318.1697514995715, 'Nebraska': 299.90429447852756, 'North Dakota': 336.9935754189945, 'New Hampshire': 250.92745098039214, 'New Mexico': 299.1499999999999, 'New York': 324.8559405940593, 'South Carolina': 349.20739371534216, 'Pennsylvania': 333.40116580310865, 'PR': 222.7755274261604, 'Virginia': 327.2468773513916, 'South Dakota': 336.5144086021504, 'Tennessee': 424.68237885462554, 'Texas': 362.38034217877123, 'VI': 88.3, 'Washington': 271.51818181818174, 'West Virginia': 386.0788505747124, 'Wyoming': 313.84251207729454}\n",
      "{'Alaska': 290.73879310344853, 'Alabama': 435.16953455571235, 'Arkansas': 435.5674731182798, 'Arizona': 271.97940074906364, 'AS': 180.53333333333333, 'California': 285.7909900990093, 'Colorado': 240.0409620991252, 'Connecticut': 247.168309859155, 'Georgia': 377.48241691842895, 'DC': 284.4967741935484, 'Delaware': 249.4103448275863, 'Florida': 274.8460650577125, 'Hawaii': 282.9626666666665, 'Iowa': 336.43233695652225, 'GU': 595.4, 'Illinois': 334.0049180327867, 'Louisiana': 427.4367142857144, 'Idaho': 285.8965333333332, 'Indiana': 341.91925254813077, 'Kansas': 347.7967889908254, 'Kentucky': 421.4141692150871, 'Maine': 285.711382113821, 'Massachusetts': 220.1612149532711, 'Maryland': 294.7038575667659, 'Michigan': 350.11539351851854, 'Missouri': 383.28661087866146, 'Minnesota': 263.4945983379503, 'MP': 327.8666666666666, 'Mississippi': 469.03938271604926, 'Montana': 357.13540669856457, 'North Carolina': 303.5638820638818, 'North Dakota': 333.6934246575343, 'Nebraska': 297.9562500000002, 'New Hampshire': 241.0990740740741, 'New Jersey': 283.33067846607645, 'New Mexico': 313.8350119904077, 'Nevada': 332.8964843749999, 'New York': 299.4704156479222, 'Ohio': 348.6909928352099, 'Oklahoma': 448.384337349398, 'Oregon': 232.22466666666662, 'South Carolina': 320.6524137931036, 'Pennsylvania': 327.10969773299786, 'PR': 216.12573839662448, 'Rhode Island': 242.7612903225806, 'South Dakota': 320.6111578947367, 'US': 291.43333333333334, 'Utah': 274.90914826498397, 'Virginia': 329.6740088105719, 'Tennessee': 416.7370488322716, 'Texas': 360.91300417246197, 'VI': 131.4333333333333, 'Vermont': 301.5041237113401, 'Washington': 264.86414414414395, 'Wisconsin': 302.93249258160233, 'West Virginia': 381.6744779582369, 'Wyoming': 299.48963730569943}\n"
     ]
    }
   ],
   "source": [
    "heart14_dict=average_heart(h14)\n",
    "heart16_dict=average_heart(h16)\n",
    "heart18_dict=average_heart(dataset)"
   ]
  },
  {
   "cell_type": "code",
   "execution_count": 20,
   "id": "e7b0c1b6",
   "metadata": {},
   "outputs": [],
   "source": [
    "heart14_sorted = sorted(heart14_dict.items(), key=lambda x: x[1], reverse=True)\n",
    "heart16_sorted = sorted(heart16_dict.items(), key=lambda x: x[1], reverse=True)\n",
    "heart18_sorted = sorted(heart18_dict.items(), key=lambda x: x[1], reverse=True)"
   ]
  },
  {
   "cell_type": "code",
   "execution_count": 21,
   "id": "642b651b",
   "metadata": {},
   "outputs": [],
   "source": [
    "def clean_heart(sorted_dict):\n",
    "    statecodes=pd.read_csv(\"Statecodes.csv\")\n",
    "    statecodes.head()\n",
    "    df_state=set(df['State'])\n",
    "    dataset_state=set(dataset['LocationAbbr'])\n",
    "    codes=set(statecodes['Code'])\n",
    "    state=set(statecodes['State'])\n",
    "    extra_codes=dataset_state-state\n",
    "    print(extra_codes)\n",
    "    sorted_dict = [tup for tup in sorted_dict if tup[0] not in extra_codes]\n",
    "    \n",
    "    print(len(sorted_dict))\n",
    "    return sorted_dict"
   ]
  },
  {
   "cell_type": "code",
   "execution_count": 22,
   "id": "3bb866f2",
   "metadata": {},
   "outputs": [
    {
     "name": "stdout",
     "output_type": "stream",
     "text": [
      "{'MP', 'AS', 'PR', 'DC', 'VI', 'US', 'GU'}\n",
      "50\n",
      "{'MP', 'AS', 'PR', 'DC', 'VI', 'US', 'GU'}\n",
      "50\n",
      "{'MP', 'AS', 'PR', 'DC', 'VI', 'US', 'GU'}\n",
      "50\n"
     ]
    }
   ],
   "source": [
    "heart14={}\n",
    "heart16={}\n",
    "heart18={}\n",
    "heart14=clean_heart(heart14_sorted)\n",
    "heart16=clean_heart(heart16_sorted)\n",
    "heart18=clean_heart(heart18_sorted)"
   ]
  },
  {
   "cell_type": "code",
   "execution_count": 23,
   "id": "87928e2c",
   "metadata": {},
   "outputs": [],
   "source": [
    "def merge(dict_heart,diabetes_dict):\n",
    "    heart_df = pd.DataFrame(dict_heart, columns=['State', 'Heart_Average'])\n",
    "    diabetes_df = pd.DataFrame(list(diabetes_dict.items()), columns=['State', 'Diabetes_Average'])\n",
    "    merged_df = pd.merge(heart_df, diabetes_df, on='State', how='outer')\n",
    "    #print(merged_df)\n",
    "    return merged_df"
   ]
  },
  {
   "cell_type": "code",
   "execution_count": 43,
   "id": "35739d96",
   "metadata": {},
   "outputs": [],
   "source": [
    "merge14=merge(heart14, diabetes14_dict)\n",
    "merge16=merge(heart16, diabetes16_dict)\n",
    "merge18=merge(heart18, diabetes_dict)"
   ]
  },
  {
   "cell_type": "code",
   "execution_count": 44,
   "id": "0e536698",
   "metadata": {},
   "outputs": [
    {
     "data": {
      "text/plain": [
       "dict"
      ]
     },
     "execution_count": 44,
     "metadata": {},
     "output_type": "execute_result"
    }
   ],
   "source": [
    "type(diabetes_dict)"
   ]
  },
  {
   "cell_type": "code",
   "execution_count": 57,
   "id": "cbbf3750",
   "metadata": {},
   "outputs": [],
   "source": [
    "result = pd.concat([merge16, merge14, merge18], ignore_index=True)\n",
    "#result = np.log(result.iloc[:,[1,2]])"
   ]
  },
  {
   "cell_type": "code",
   "execution_count": 58,
   "id": "c541efd6",
   "metadata": {},
   "outputs": [
    {
     "data": {
      "text/html": [
       "<div>\n",
       "<style scoped>\n",
       "    .dataframe tbody tr th:only-of-type {\n",
       "        vertical-align: middle;\n",
       "    }\n",
       "\n",
       "    .dataframe tbody tr th {\n",
       "        vertical-align: top;\n",
       "    }\n",
       "\n",
       "    .dataframe thead th {\n",
       "        text-align: right;\n",
       "    }\n",
       "</style>\n",
       "<table border=\"1\" class=\"dataframe\">\n",
       "  <thead>\n",
       "    <tr style=\"text-align: right;\">\n",
       "      <th></th>\n",
       "      <th>State</th>\n",
       "      <th>Heart_Average</th>\n",
       "      <th>Diabetes_Average</th>\n",
       "    </tr>\n",
       "  </thead>\n",
       "  <tbody>\n",
       "    <tr>\n",
       "      <th>0</th>\n",
       "      <td>Mississippi</td>\n",
       "      <td>495.518182</td>\n",
       "      <td>10.251220</td>\n",
       "    </tr>\n",
       "    <tr>\n",
       "      <th>1</th>\n",
       "      <td>Alabama</td>\n",
       "      <td>452.940996</td>\n",
       "      <td>10.695522</td>\n",
       "    </tr>\n",
       "    <tr>\n",
       "      <th>2</th>\n",
       "      <td>Louisiana</td>\n",
       "      <td>452.033086</td>\n",
       "      <td>9.778125</td>\n",
       "    </tr>\n",
       "    <tr>\n",
       "      <th>3</th>\n",
       "      <td>Oklahoma</td>\n",
       "      <td>451.891615</td>\n",
       "      <td>9.174026</td>\n",
       "    </tr>\n",
       "    <tr>\n",
       "      <th>4</th>\n",
       "      <td>Arkansas</td>\n",
       "      <td>447.272996</td>\n",
       "      <td>9.198667</td>\n",
       "    </tr>\n",
       "    <tr>\n",
       "      <th>...</th>\n",
       "      <td>...</td>\n",
       "      <td>...</td>\n",
       "      <td>...</td>\n",
       "    </tr>\n",
       "    <tr>\n",
       "      <th>145</th>\n",
       "      <td>Rhode Island</td>\n",
       "      <td>242.761290</td>\n",
       "      <td>7.640000</td>\n",
       "    </tr>\n",
       "    <tr>\n",
       "      <th>146</th>\n",
       "      <td>New Hampshire</td>\n",
       "      <td>241.099074</td>\n",
       "      <td>8.080000</td>\n",
       "    </tr>\n",
       "    <tr>\n",
       "      <th>147</th>\n",
       "      <td>Colorado</td>\n",
       "      <td>240.040962</td>\n",
       "      <td>6.845313</td>\n",
       "    </tr>\n",
       "    <tr>\n",
       "      <th>148</th>\n",
       "      <td>Oregon</td>\n",
       "      <td>232.224667</td>\n",
       "      <td>8.150000</td>\n",
       "    </tr>\n",
       "    <tr>\n",
       "      <th>149</th>\n",
       "      <td>Massachusetts</td>\n",
       "      <td>220.161215</td>\n",
       "      <td>7.378571</td>\n",
       "    </tr>\n",
       "  </tbody>\n",
       "</table>\n",
       "<p>150 rows × 3 columns</p>\n",
       "</div>"
      ],
      "text/plain": [
       "             State  Heart_Average  Diabetes_Average\n",
       "0      Mississippi     495.518182         10.251220\n",
       "1          Alabama     452.940996         10.695522\n",
       "2        Louisiana     452.033086          9.778125\n",
       "3         Oklahoma     451.891615          9.174026\n",
       "4         Arkansas     447.272996          9.198667\n",
       "..             ...            ...               ...\n",
       "145   Rhode Island     242.761290          7.640000\n",
       "146  New Hampshire     241.099074          8.080000\n",
       "147       Colorado     240.040962          6.845313\n",
       "148         Oregon     232.224667          8.150000\n",
       "149  Massachusetts     220.161215          7.378571\n",
       "\n",
       "[150 rows x 3 columns]"
      ]
     },
     "execution_count": 58,
     "metadata": {},
     "output_type": "execute_result"
    }
   ],
   "source": [
    "result"
   ]
  },
  {
   "cell_type": "code",
   "execution_count": 59,
   "id": "e13acf4c",
   "metadata": {},
   "outputs": [
    {
     "data": {
      "image/png": "[encoded data removed]",
      "text/plain": [
       "<Figure size 640x480 with 1 Axes>"
      ]
     },
     "metadata": {},
     "output_type": "display_data"
    }
   ],
   "source": [
    "#modelling\n",
    "\n",
    "import pandas as pd\n",
    "import numpy as np\n",
    "import matplotlib.pyplot as plt\n",
    "from scipy import stats\n",
    "\n",
    "x=result.iloc[:,2].to_numpy()\n",
    "y=result.iloc[:,1].to_numpy()\n",
    "plt.scatter(x,y)\n",
    "m, c = np.random.random(), np.random.random()\n",
    "\n",
    "def learn(x, y, m, c, epoch):\n",
    "    for i in range(epoch):\n",
    "        y_pred = m * x + c\n",
    "        error = y - y_pred\n",
    "        \n",
    "        # Calculate gradients\n",
    "        delta_m = (-2/len(x)) * np.sum(x * error)\n",
    "        delta_c = (-2/len(x)) * np.sum(error)\n",
    "        \n",
    "        # Update m and c\n",
    "        learning_rate = 0.01\n",
    "        m -= learning_rate * delta_m\n",
    "        c -= learning_rate * delta_c\n",
    "    \n",
    "    return m, c\n",
    "\n",
    "# Call the learn function to update m and c\n",
    "m, c = learn(x, y, m, c, 2000)\n",
    "\n",
    "x1 = np.array([min(x), max(x)])\n",
    "y1 = m * x1 + c\n",
    "plt.plot(x1, y1, color='red')\n",
    "plt.xlabel('% Percentage of diabetes')\n",
    "plt.ylabel('Number of heart disease')\n",
    "plt.title('Linear Regression')\n",
    "plt.show()"
   ]
  },
  {
   "cell_type": "code",
   "execution_count": 80,
   "id": "4d99048d",
   "metadata": {},
   "outputs": [
    {
     "name": "stdout",
     "output_type": "stream",
     "text": [
      "[[10236.95946143]\n",
      " [10497.59833056]\n",
      " [ 8838.04382724]\n",
      " [11273.59927731]\n",
      " [11953.92908032]\n",
      " [13778.39453636]\n",
      " [ 8051.08342023]\n",
      " [ 8425.02932024]\n",
      " [ 9143.14504767]]\n",
      "0.3393889858148582\n"
     ]
    }
   ],
   "source": [
    "from sklearn.metrics import r2_score\n",
    "from sklearn.model_selection import train_test_split\n",
    "from sklearn.linear_model import LinearRegression\n",
    "from sklearn import metrics\n",
    "reg = LinearRegression()\n",
    "x = x.reshape(-1, 1)\n",
    "y=y.reshape(-1,1)\n",
    "x_train, x_test, y_train, y_test = train_test_split(x, y, test_size= 0.06, random_state=0)\n",
    "reg.fit(x_train,y_train)\n",
    "y_pred = reg.predict(x_test)\n",
    "print(reg.predict(y_test))\n",
    "r2_score = r2_score(y_test, y_pred)\n",
    "print(r2_score)"
   ]
  },
  {
   "cell_type": "code",
   "execution_count": 97,
   "id": "de3944ff",
   "metadata": {},
   "outputs": [
    {
     "name": "stdout",
     "output_type": "stream",
     "text": [
      "R2 Score (sklearn): 0.33938898581485855\n",
      "Mean Squared Error: 2395.6521557817664\n",
      "Coefficients: [77.99049158 29.20949615]\n",
      "P values: [4.15570917e-02 9.28145008e-10]\n",
      "Standard Deviation: [37.91488533  4.44512352]\n",
      "Z Scores: [2.05698872 6.57113261]\n",
      "Mean Error: 19.118745030608398\n"
     ]
    }
   ],
   "source": [
    "import statsmodels.api as sm\n",
    "from sklearn.metrics import mean_squared_error\n",
    "from scipy.stats import kurtosis\n",
    "# Add a constant term to the features for statsmodels\n",
    "x_train_with_const = sm.add_constant(x_train)\n",
    "\n",
    "# Fit the model using statsmodels OLS\n",
    "model = sm.OLS(y_train, x_train_with_const).fit()\n",
    "\n",
    "# Get the predictions on the test set\n",
    "x_test_with_const = sm.add_constant(x_test)\n",
    "y_pred = model.predict(x_test_with_const)\n",
    "\n",
    "# Calculate metrics\n",
    "r2_score_sklearn = metrics.r2_score(y_test, y_pred)\n",
    "mse = mean_squared_error(y_test, y_pred)\n",
    "\n",
    "# Get statistics from statsmodels\n",
    "p_values = model.pvalues\n",
    "params = model.params\n",
    "std_dev = np.sqrt(np.diag(model.cov_params()))\n",
    "z_scores = params / std_dev\n",
    "\n",
    "# Mean Error\n",
    "mean_error = np.mean(y_test - y_pred)\n",
    "\n",
    "residuals = y_test - y_pred\n",
    "kurtosis_value = kurtosis(residuals)\n",
    "\n",
    "# Print the results\n",
    "print(\"R2 Score (sklearn):\", r2_score_sklearn)\n",
    "\n",
    "print(\"Mean Squared Error:\", mse)\n",
    "print(\"Coefficients:\", params)\n",
    "print(\"P values:\", p_values)\n",
    "print(\"Standard Deviation:\", std_dev)\n",
    "print(\"Z Scores:\", z_scores)\n",
    "print(\"Mean Error:\", mean_error)"
   ]
  },
  {
   "cell_type": "code",
   "execution_count": null,
   "id": "d158910a",
   "metadata": {},
   "outputs": [],
   "source": []
  }
 ],
 "metadata": {
  "kernelspec": {
   "display_name": "Python 3 (ipykernel)",
   "language": "python",
   "name": "python3"
  },
  "language_info": {
   "codemirror_mode": {
    "name": "ipython",
    "version": 3
   },
   "file_extension": ".py",
   "mimetype": "text/x-python",
   "name": "python",
   "nbconvert_exporter": "python",
   "pygments_lexer": "ipython3",
   "version": "3.11.4"
  }
 },
 "nbformat": 4,
 "nbformat_minor": 5
}
